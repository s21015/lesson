{
 "cells": [
  {
   "cell_type": "code",
   "execution_count": null,
   "metadata": {},
   "outputs": [],
   "source": [
    "[n, m] = map(int, input().split())\n",
    "[s, t] = [input() for _ in range(2)]\n",
    "m = 0\n",
    "n = 0\n",
    "ls = list(s)\n",
    "lt = list(t)\n",
    "\n",
    "if len(ls) >= len(lt):\n",
    "    for n in range(len(lt)):\n",
    "        n += 1\n",
    "    \n",
    "    for ss in range(len(ls)):\n",
    "        ss += 1\n",
    "    \n",
    "    for x in ls[ss - 1]:\n",
    "        if x == lt[n - 1]:\n",
    "            m += 1\n",
    "    print(m)\n",
    "    \n",
    "elif len(lt) > len(ls):\n",
    "    for n in range(len(ls)):\n",
    "        n += 1\n",
    "        \n",
    "    for tt in range(len(tt)):\n",
    "        tt += 1\n",
    "    \n",
    "    for x in lt[tt]:\n",
    "        if x == ls[n - 1]:\n",
    "            m += 1\n",
    "    print(m)"
   ]
  }
 ],
 "metadata": {
  "kernelspec": {
   "display_name": "Python 3",
   "language": "python",
   "name": "python3"
  },
  "language_info": {
   "codemirror_mode": {
    "name": "ipython",
    "version": 3
   },
   "file_extension": ".py",
   "mimetype": "text/x-python",
   "name": "python",
   "nbconvert_exporter": "python",
   "pygments_lexer": "ipython3",
   "version": "3.8.5"
  }
 },
 "nbformat": 4,
 "nbformat_minor": 4
}
